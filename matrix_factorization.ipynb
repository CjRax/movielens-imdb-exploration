{
 "cells": [
  {
   "cell_type": "markdown",
   "metadata": {},
   "source": [
    "## Non-Negative Matrix Factorization for Faster Recommendation\n",
    "\n",
    "**Wikipedia:** Non-negative matrix factorization is a group of algorithms in multivariate analysis and linear algebra where a matrix V is factorized into (usually) two matrices W and H, with the property that all three matrices have no negative elements. This non-negativity makes the resulting matrices easier to inspect. Also, in applications such as processing of audio spectrograms or muscular activity, non-negativity is inherent to the data being considered. \n",
    "\n",
    "<img src=\"https://upload.wikimedia.org/wikipedia/commons/f/f9/NMF.png\">\n",
    "\n",
    "_Source: https://upload.wikimedia.org/wikipedia/commons/f/f9/NMF.png_\n",
    "\n",
    "### Libraries"
   ]
  },
  {
   "cell_type": "code",
   "execution_count": 30,
   "metadata": {},
   "outputs": [],
   "source": [
    "from surprise import SVD, SVDpp, NMF\n",
    "from surprise import Dataset, accuracy\n",
    "from surprise.model_selection import cross_validate\n",
    "from surprise.model_selection import train_test_split\n",
    "from surprise import Reader\n",
    "import pandas as pd\n",
    "import time"
   ]
  },
  {
   "cell_type": "markdown",
   "metadata": {},
   "source": [
    "### Dataset Preparation"
   ]
  },
  {
   "cell_type": "code",
   "execution_count": 28,
   "metadata": {},
   "outputs": [],
   "source": [
    "ratings = pd.read_csv('data/ratings.csv')\n",
    "\n",
    "ratings_dict = {'itemID': ratings.movie_id_ml,\n",
    "                'userID': ratings.user_id,\n",
    "                'rating': ratings.rating\n",
    "               }\n",
    "\n",
    "df = pd.DataFrame(ratings_dict)\n",
    "reader = Reader(rating_scale=(1, 5))\n",
    "data = Dataset.load_from_df(df[['userID', 'itemID', 'rating']], reader)\n",
    "trainset, testset = train_test_split(data, test_size=.25)"
   ]
  },
  {
   "cell_type": "markdown",
   "metadata": {},
   "source": [
    "### Training Matrix Factorization"
   ]
  },
  {
   "cell_type": "code",
   "execution_count": 33,
   "metadata": {},
   "outputs": [
    {
     "name": "stdout",
     "output_type": "stream",
     "text": [
      "Test Set Error\n",
      "--------------\n",
      "MAE:  0.7569\n",
      "--------------\n",
      "Finished in 7.336 sec.\n"
     ]
    }
   ],
   "source": [
    "start = time.time()\n",
    "algo = NMF()\n",
    "algo.fit(trainset)\n",
    "predictions = algo.test(testset)\n",
    "print(\"Test Set Error\\n--------------\")\n",
    "accuracy.mae(predictions)\n",
    "print(\"--------------\\nFinished in {:.3f} sec.\".format(time.time()-start))\n",
    "\n",
    "# algo.pu -> User Matrix\n",
    "# algo.qi -> Item Matrix"
   ]
  }
 ],
 "metadata": {
  "kernelspec": {
   "display_name": "project",
   "language": "python",
   "name": "other-env"
  },
  "language_info": {
   "codemirror_mode": {
    "name": "ipython",
    "version": 3
   },
   "file_extension": ".py",
   "mimetype": "text/x-python",
   "name": "python",
   "nbconvert_exporter": "python",
   "pygments_lexer": "ipython3",
   "version": "3.6.8"
  }
 },
 "nbformat": 4,
 "nbformat_minor": 2
}
