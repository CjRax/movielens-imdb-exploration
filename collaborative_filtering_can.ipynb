{
 "cells": [
  {
   "cell_type": "markdown",
   "metadata": {},
   "source": [
    "## Collaborative Filtering\n",
    "\n",
    "These notebook will compare the performance of _Neural Collaborative Filtering_ **[1]** and _Neural Graph Collaborative Filtering_ **[2]** papers on MovieLens dataset. We would like to see if there is a difference between non-graph based method and a graph-based method on collaborative filtering using MovieLens dataset. We will benefit from [this GitHub repository](https://github.com/talkingwallace/NGCF-pytorch/blob/master/GraphNCF/GCFmodel.py) **[3]** for the implementation of these two models.\n",
    "\n",
    "**Neural Collaborative Filtering: ** When it comes to model the key factor in collaborative filtering -- the interaction between user and item features, they still resorted to matrix factorization and applied an inner product on the latent features of users and items. By replacing the inner product with a neural architecture that can learn an arbitrary function from data, we present a general framework named NCF, short for Neural network-based Collaborative Filtering.\n",
    "\n",
    "**Neural Graph Collaborative Filtering: ** In this work, we propose to integrate the user-item interactions --- more specifically the bipartite graph structure --- into the embedding process. We develop a new recommendation framework Neural Graph Collaborative Filtering (NGCF), which exploits the user-item graph structure by propagating embeddings on it. \n",
    "\n",
    "***\n",
    "\n",
    "### Libraries"
   ]
  },
  {
   "cell_type": "code",
   "execution_count": 1,
   "metadata": {
    "collapsed": true
   },
   "outputs": [],
   "source": [
    "import torch\n",
    "import torch.nn as nn\n",
    "from torch.nn import Module\n",
    "from scipy.sparse import coo_matrix\n",
    "from scipy.sparse import vstack\n",
    "from scipy import sparse\n",
    "import numpy as np"
   ]
  },
  {
   "cell_type": "markdown",
   "metadata": {},
   "source": [
    "### Model Implementation - Neural Collaborative Filtering "
   ]
  },
  {
   "cell_type": "code",
   "execution_count": 2,
   "metadata": {
    "collapsed": true
   },
   "outputs": [],
   "source": [
    "class NCF(Module):\n",
    "\n",
    "    def __init__(self,userNum,itemNum,dim,layers=[128,64,32,8]):\n",
    "        super(NCF, self).__init__()\n",
    "        self.uEmbd = nn.Embedding(userNum,dim)\n",
    "        self.iEmbd = nn.Embedding(itemNum,dim)\n",
    "        self.fc_layers = torch.nn.ModuleList()\n",
    "        self.finalLayer = torch.nn.Linear(layers[-1],1)\n",
    "\n",
    "        for From,To in zip(layers[:-1],layers[1:]):\n",
    "            self.fc_layers.append(nn.Linear(From,To))\n",
    "\n",
    "    def forward(self, userIdx,itemIdx):\n",
    "        uembd = self.uEmbd(userIdx)\n",
    "        iembd = self.iEmbd(itemIdx)\n",
    "        embd = torch.cat([uembd, iembd], dim=1)\n",
    "        x = embd\n",
    "        for l in self.fc_layers:\n",
    "            x = l(x)\n",
    "            x = nn.ReLU()(x)\n",
    "\n",
    "        prediction = self.finalLayer(x)\n",
    "        return prediction.flatten()"
   ]
  },
  {
   "cell_type": "markdown",
   "metadata": {},
   "source": [
    "### Model Implementation - Neural Graph Collaborative Filtering "
   ]
  },
  {
   "cell_type": "code",
   "execution_count": 3,
   "metadata": {
    "collapsed": true
   },
   "outputs": [],
   "source": [
    "class GCF(Module):\n",
    "\n",
    "    def __init__(self,userNum,itemNum,rt,embedSize=100,layers=[100,80,50],useCuda=True):\n",
    "\n",
    "        super(GCF,self).__init__()\n",
    "        self.useCuda = useCuda\n",
    "        self.userNum = userNum\n",
    "        self.itemNum = itemNum\n",
    "        self.uEmbd = nn.Embedding(userNum,embedSize)\n",
    "        self.iEmbd = nn.Embedding(itemNum,embedSize)\n",
    "        self.GNNlayers = torch.nn.ModuleList()\n",
    "        self.LaplacianMat = self.buildLaplacianMat(rt) # sparse format\n",
    "        self.leakyRelu = nn.LeakyReLU()\n",
    "        self.selfLoop = self.getSparseEye(self.userNum+self.itemNum)\n",
    "\n",
    "        self.transForm1 = nn.Linear(in_features=layers[-1]*(len(layers))*2,out_features=64)\n",
    "        self.transForm2 = nn.Linear(in_features=64,out_features=32)\n",
    "        self.transForm3 = nn.Linear(in_features=32,out_features=1)\n",
    "\n",
    "        for From,To in zip(layers[:-1],layers[1:]):\n",
    "            self.GNNlayers.append(GNNLayer(From,To))\n",
    "\n",
    "    def getSparseEye(self,num):\n",
    "        i = torch.LongTensor([[k for k in range(0,num)],[j for j in range(0,num)]])\n",
    "        val = torch.FloatTensor([1]*num)\n",
    "        return torch.sparse.FloatTensor(i,val)\n",
    "\n",
    "    def buildLaplacianMat(self,rt):\n",
    "\n",
    "        rt_item = rt['itemId'] + self.userNum\n",
    "        uiMat = coo_matrix((rt['rating'], (rt['userId'], rt['itemId'])))\n",
    "\n",
    "        uiMat_upperPart = coo_matrix((rt['rating'], (rt['userId'], rt_item)))\n",
    "        uiMat = uiMat.transpose()\n",
    "        uiMat.resize((self.itemNum, self.userNum + self.itemNum))\n",
    "\n",
    "        A = sparse.vstack([uiMat_upperPart,uiMat])\n",
    "        selfLoop = sparse.eye(self.userNum+self.itemNum)\n",
    "        sumArr = (A>0).sum(axis=1)\n",
    "        diag = list(np.array(sumArr.flatten())[0])\n",
    "        diag = np.power(diag,-0.5)\n",
    "        D = sparse.diags(diag)\n",
    "        L = D * A * D\n",
    "        L = sparse.coo_matrix(L)\n",
    "        row = L.row\n",
    "        col = L.col\n",
    "        i = torch.LongTensor([row,col])\n",
    "        data = torch.FloatTensor(L.data)\n",
    "        SparseL = torch.sparse.FloatTensor(i,data)\n",
    "        return SparseL\n",
    "\n",
    "    def getFeatureMat(self):\n",
    "        uidx = torch.LongTensor([i for i in range(self.userNum)])\n",
    "        iidx = torch.LongTensor([i for i in range(self.itemNum)])\n",
    "        if self.useCuda == True:\n",
    "            uidx = uidx.cuda()\n",
    "            iidx = iidx.cuda()\n",
    "\n",
    "        userEmbd = self.uEmbd(uidx)\n",
    "        itemEmbd = self.iEmbd(iidx)\n",
    "        features = torch.cat([userEmbd,itemEmbd],dim=0)\n",
    "        return features\n",
    "\n",
    "    def forward(self,userIdx,itemIdx):\n",
    "\n",
    "        itemIdx = itemIdx + self.userNum\n",
    "        userIdx = list(userIdx.cpu().data)\n",
    "        itemIdx = list(itemIdx.cpu().data)\n",
    "        # gcf data propagation\n",
    "        features = self.getFeatureMat()\n",
    "        finalEmbd = features.clone()\n",
    "        for gnn in self.GNNlayers:\n",
    "            features = gnn(self.LaplacianMat,self.selfLoop,features)\n",
    "            features = nn.ReLU()(features)\n",
    "            finalEmbd = torch.cat([finalEmbd,features.clone()],dim=1)\n",
    "\n",
    "        userEmbd = finalEmbd[userIdx]\n",
    "        itemEmbd = finalEmbd[itemIdx]\n",
    "        embd = torch.cat([userEmbd,itemEmbd],dim=1)\n",
    "\n",
    "        embd = nn.ReLU()(self.transForm1(embd))\n",
    "        embd = self.transForm2(embd)\n",
    "        embd = self.transForm3(embd)\n",
    "        prediction = embd.flatten()\n",
    "\n",
    "        return prediction"
   ]
  },
  {
   "cell_type": "markdown",
   "metadata": {},
   "source": [
    "***\n",
    "\n",
    "## References\n",
    "\n",
    "[1] _He, Xiangnan, et al. \"Neural collaborative filtering.\" Proceedings of the 26th international conference on world wide web. International World Wide Web Conferences Steering Committee, 2017._\n",
    "\n",
    "[2] _Wang, Xiang, et al. \"Neural Graph Collaborative Filtering.\" arXiv preprint arXiv:1905.08108 (2019)._\n",
    "\n",
    "[3] _https://github.com/talkingwallace/NGCF-pytorch_"
   ]
  }
 ],
 "metadata": {
  "anaconda-cloud": {},
  "kernelspec": {
   "display_name": "Deep Learning",
   "language": "python",
   "name": "deepl"
  },
  "language_info": {
   "codemirror_mode": {
    "name": "ipython",
    "version": 3
   },
   "file_extension": ".py",
   "mimetype": "text/x-python",
   "name": "python",
   "nbconvert_exporter": "python",
   "pygments_lexer": "ipython3",
   "version": "3.6.8"
  }
 },
 "nbformat": 4,
 "nbformat_minor": 2
}
