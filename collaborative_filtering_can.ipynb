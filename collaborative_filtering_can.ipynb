{
 "cells": [
  {
   "cell_type": "markdown",
   "metadata": {},
   "source": [
    "## Collaborative Filtering\n",
    "\n",
    "These notebook will compare the performance of _Neural Collaborative Filtering_ **[1]** and _Neural Graph Collaborative Filtering_ **[2]** papers on MovieLens dataset. We would like to see if there is a difference between non-graph based method and a graph-based method on collaborative filtering using MovieLens dataset. We will benefit from [this GitHub repository](https://github.com/talkingwallace/NGCF-pytorch/blob/master/GraphNCF/GCFmodel.py) **[3]** for the implementation of these two models.\n",
    "\n",
    "**Neural Collaborative Filtering: ** When it comes to model the key factor in collaborative filtering -- the interaction between user and item features, they still resorted to matrix factorization and applied an inner product on the latent features of users and items. By replacing the inner product with a neural architecture that can learn an arbitrary function from data, we present a general framework named NCF, short for Neural network-based Collaborative Filtering.\n",
    "\n",
    "**Neural Graph Collaborative Filtering: ** In this work, we propose to integrate the user-item interactions --- more specifically the bipartite graph structure --- into the embedding process. We develop a new recommendation framework Neural Graph Collaborative Filtering (NGCF), which exploits the user-item graph structure by propagating embeddings on it. \n",
    "\n",
    "***\n",
    "\n",
    "### Libraries"
   ]
  },
  {
   "cell_type": "code",
   "execution_count": 16,
   "metadata": {
    "collapsed": true
   },
   "outputs": [],
   "source": [
    "%matplotlib inline\n",
    "import matplotlib.pyplot as plt\n",
    "import torch\n",
    "import torch.nn as nn\n",
    "from torch.nn import Module\n",
    "from scipy.sparse import coo_matrix\n",
    "from scipy.sparse import vstack\n",
    "from scipy import sparse\n",
    "import numpy as np\n",
    "import pandas as pd\n",
    "from torch.optim import Adam\n",
    "from torch.nn import MSELoss\n",
    "from tqdm.notebook import tqdm\n",
    "import time\n",
    "\n",
    "np.random.seed(23)"
   ]
  },
  {
   "cell_type": "markdown",
   "metadata": {},
   "source": [
    "### Data Preprocessing"
   ]
  },
  {
   "cell_type": "code",
   "execution_count": 2,
   "metadata": {
    "collapsed": false
   },
   "outputs": [],
   "source": [
    "from torch.utils.data import Dataset, DataLoader\n",
    "from torchvision import transforms, utils\n",
    "\n",
    "class RatingsDataset(Dataset):\n",
    "    \"\"\"Ratings Dataset\"\"\"\n",
    "\n",
    "    def __init__(self):\n",
    "        \"\"\"\n",
    "        Args:\n",
    "            csv_file (string): Path to the csv file with ratings.\n",
    "        \"\"\"\n",
    "        self.csv = pd.read_csv('data/ratings.csv')\n",
    "        \n",
    "        self.user_ids = list(self.csv.user_id-1)\n",
    "        self.movie_ids = list(self.csv.movie_id_ml-1)\n",
    "        self.ratings = list(self.csv.rating)\n",
    "        \n",
    "        self.userNums = np.max(self.user_ids)+1\n",
    "        self.movieNums = np.max(self.movie_ids)+1\n",
    "\n",
    "    def __len__(self):\n",
    "        return len(self.csv)\n",
    "\n",
    "    def __getitem__(self, idx):\n",
    "        return {\n",
    "            'user': self.user_ids[idx],\n",
    "            'movie': self.movie_ids[idx], \n",
    "            'rating': self.ratings[idx]\n",
    "        }\n",
    "    \n",
    "    def get_user_number(self):\n",
    "        return self.userNums\n",
    "    \n",
    "    def get_movie_number(self):\n",
    "        return self.movieNums"
   ]
  },
  {
   "cell_type": "code",
   "execution_count": 3,
   "metadata": {
    "collapsed": false
   },
   "outputs": [],
   "source": [
    "rt = pd.read_csv('data/ratings.csv')\n",
    "rt['user_id'] = rt['user_id'] - 1\n",
    "rt['movie_id_ml'] = rt['movie_id_ml'] - 1\n",
    "\n",
    "dataset = RatingsDataset()\n",
    "\n",
    "train_size = int(0.5 * len(dataset))\n",
    "val_size = int(0.2 * len(dataset))\n",
    "test_size = len(dataset) - train_size - val_size\n",
    "\n",
    "train_dataset, val_dataset, test_dataset = torch.utils.data.random_split(dataset, [train_size, val_size, test_size])"
   ]
  },
  {
   "cell_type": "markdown",
   "metadata": {},
   "source": [
    "### Model Implementation - Neural Collaborative Filtering "
   ]
  },
  {
   "cell_type": "code",
   "execution_count": 65,
   "metadata": {
    "collapsed": false
   },
   "outputs": [],
   "source": [
    "class NCF(Module):\n",
    "\n",
    "    def __init__(self, userNum, itemNum, dim=64, first_layer=128):\n",
    "        super(NCF, self).__init__()\n",
    "        \n",
    "        self.uEmbd = nn.Embedding(userNum, dim)\n",
    "        self.iEmbd = nn.Embedding(itemNum, dim)\n",
    "        \n",
    "        self.fc_layers = nn.Sequential(nn.Linear(dim*2, first_layer),\n",
    "                                       nn.Dropout(0.),\n",
    "                                       nn.ReLU(inplace=True),\n",
    "                                       nn.Linear(first_layer, first_layer//2),\n",
    "                                       nn.Dropout(0.6),\n",
    "                                       nn.ReLU(inplace=True),\n",
    "                                       nn.Linear(first_layer//2, first_layer//4),\n",
    "                                       nn.Dropout(0.6),\n",
    "                                       nn.ReLU(inplace=True),\n",
    "                                       nn.Linear(first_layer//4, first_layer//8),\n",
    "                                       nn.Dropout(0.6),\n",
    "                                       nn.ReLU(inplace=True),\n",
    "                                       nn.Linear(first_layer//8, 1))\n",
    "        \n",
    "    def forward(self, userIdx,itemIdx):\n",
    "        uembd = self.uEmbd(userIdx)\n",
    "        iembd = self.iEmbd(itemIdx)\n",
    "        embd = torch.cat([uembd, iembd], dim=1)\n",
    "        \n",
    "        prediction = self.fc_layers(embd)\n",
    "        return prediction.flatten()"
   ]
  },
  {
   "cell_type": "markdown",
   "metadata": {},
   "source": [
    "### Model Implementation - Neural Graph Collaborative Filtering "
   ]
  },
  {
   "cell_type": "code",
   "execution_count": 6,
   "metadata": {
    "collapsed": true
   },
   "outputs": [],
   "source": [
    "class GNNLayer(Module):\n",
    "\n",
    "    def __init__(self,inF,outF):\n",
    "\n",
    "        super(GNNLayer,self).__init__()\n",
    "        self.inF = inF\n",
    "        self.outF = outF\n",
    "        self.linear = torch.nn.Linear(in_features=inF,out_features=outF)\n",
    "        self.interActTransform = torch.nn.Linear(in_features=inF,out_features=outF)\n",
    "\n",
    "    def forward(self, laplacianMat,selfLoop,features):\n",
    "        # for GCF ajdMat is a (N+M) by (N+M) mat\n",
    "        # laplacianMat L = D^-1(A)D^-1 # 拉普拉斯矩阵\n",
    "        L1 = laplacianMat + selfLoop\n",
    "        L2 = laplacianMat#.cuda()\n",
    "        L1 = L1#.cuda()\n",
    "        inter_feature = torch.mul(features,features)\n",
    "\n",
    "        inter_part1 = self.linear(torch.sparse.mm(L1,features))\n",
    "        inter_part2 = self.interActTransform(torch.sparse.mm(L2,inter_feature))\n",
    "\n",
    "        return inter_part1+inter_part2\n",
    "    \n",
    "class NGCF(Module):\n",
    "\n",
    "    def __init__(self,userNum,itemNum,rt,embedSize=100,layers=[100,80,50],useCuda=False):\n",
    "\n",
    "        super(NGCF,self).__init__()\n",
    "        self.useCuda = useCuda\n",
    "        self.userNum = userNum\n",
    "        self.itemNum = itemNum\n",
    "        self.uEmbd = nn.Embedding(userNum,embedSize)\n",
    "        self.iEmbd = nn.Embedding(itemNum,embedSize)\n",
    "        self.GNNlayers = torch.nn.ModuleList()\n",
    "        self.LaplacianMat = self.buildLaplacianMat(rt) # sparse format\n",
    "        self.leakyRelu = nn.LeakyReLU()\n",
    "        self.selfLoop = self.getSparseEye(self.userNum+self.itemNum)\n",
    "\n",
    "        self.transForm1 = nn.Linear(in_features=layers[-1]*(len(layers))*2,out_features=64)\n",
    "        self.transForm2 = nn.Linear(in_features=64,out_features=32)\n",
    "        self.transForm3 = nn.Linear(in_features=32,out_features=1)\n",
    "\n",
    "        for From,To in zip(layers[:-1],layers[1:]):\n",
    "            self.GNNlayers.append(GNNLayer(From,To))\n",
    "\n",
    "    def getSparseEye(self,num):\n",
    "        i = torch.LongTensor([[k for k in range(0,num)],[j for j in range(0,num)]])\n",
    "        val = torch.FloatTensor([1]*num)\n",
    "        return torch.sparse.FloatTensor(i,val)\n",
    "\n",
    "    def buildLaplacianMat(self,rt):\n",
    "\n",
    "        rt_item = rt['movie_id_ml'] + self.userNum\n",
    "        uiMat = coo_matrix((rt['rating'], (rt['user_id'], rt['movie_id_ml'])))\n",
    "\n",
    "        uiMat_upperPart = coo_matrix((rt['rating'], (rt['user_id'], rt_item)))\n",
    "        uiMat = uiMat.transpose()\n",
    "        uiMat.resize((self.itemNum, self.userNum + self.itemNum))\n",
    "\n",
    "        A = sparse.vstack([uiMat_upperPart,uiMat])\n",
    "        selfLoop = sparse.eye(self.userNum+self.itemNum)\n",
    "        sumArr = (A>0).sum(axis=1)\n",
    "        diag = list(np.array(sumArr.flatten())[0])\n",
    "        diag = np.power(diag,-0.5)\n",
    "        D = sparse.diags(diag)\n",
    "        L = D * A * D\n",
    "        L = sparse.coo_matrix(L)\n",
    "        row = L.row\n",
    "        col = L.col\n",
    "        i = torch.LongTensor([row,col])\n",
    "        data = torch.FloatTensor(L.data)\n",
    "        SparseL = torch.sparse.FloatTensor(i,data)\n",
    "        return SparseL\n",
    "\n",
    "    def getFeatureMat(self):\n",
    "        uidx = torch.LongTensor([i for i in range(self.userNum)])\n",
    "        iidx = torch.LongTensor([i for i in range(self.itemNum)])\n",
    "        if self.useCuda == True:\n",
    "            uidx = uidx.cuda()\n",
    "            iidx = iidx.cuda()\n",
    "\n",
    "        userEmbd = self.uEmbd(uidx)\n",
    "        itemEmbd = self.iEmbd(iidx)\n",
    "        features = torch.cat([userEmbd,itemEmbd],dim=0)\n",
    "        return features\n",
    "\n",
    "    def forward(self,userIdx,itemIdx):\n",
    "\n",
    "        itemIdx = itemIdx + self.userNum\n",
    "        userIdx = list(userIdx.cpu().data)\n",
    "        itemIdx = list(itemIdx.cpu().data)\n",
    "        # gcf data propagation\n",
    "        features = self.getFeatureMat()\n",
    "        finalEmbd = features.clone()\n",
    "        for gnn in self.GNNlayers:\n",
    "            features = gnn(self.LaplacianMat,self.selfLoop,features)\n",
    "            features = nn.ReLU()(features)\n",
    "            finalEmbd = torch.cat([finalEmbd,features.clone()],dim=1)\n",
    "\n",
    "        userEmbd = finalEmbd[userIdx]\n",
    "        itemEmbd = finalEmbd[itemIdx]\n",
    "        embd = torch.cat([userEmbd,itemEmbd],dim=1)\n",
    "\n",
    "        embd = nn.ReLU()(self.transForm1(embd))\n",
    "        embd = self.transForm2(embd)\n",
    "        embd = self.transForm3(embd)\n",
    "        prediction = embd.flatten()\n",
    "\n",
    "        return prediction"
   ]
  },
  {
   "cell_type": "markdown",
   "metadata": {},
   "source": [
    "### Training"
   ]
  },
  {
   "cell_type": "code",
   "execution_count": 7,
   "metadata": {
    "collapsed": true
   },
   "outputs": [],
   "source": [
    "def train(loader, model, optim, loss):\n",
    "    model.train()\n",
    "    ls = 0.\n",
    "    \n",
    "    for id, batch in enumerate(loader):\n",
    "        optim.zero_grad()\n",
    "        prediction = model(batch['user'], batch['movie'])\n",
    "        loss_ = loss(batch['rating'].float(), prediction)\n",
    "        loss_.backward()\n",
    "        optim.step()\n",
    "        ls += loss_.item()\n",
    "        \n",
    "    return ls / len(loader)\n",
    "\n",
    "\n",
    "def evaluate(loader, model, loss):\n",
    "    model.eval()\n",
    "    ls = 0.\n",
    "\n",
    "    with torch.no_grad():\n",
    "        for id, batch in enumerate(loader):\n",
    "            prediction = model(batch['user'], batch['movie'])\n",
    "            loss_ = loss(batch['rating'].float(), prediction)\n",
    "            ls += loss_.item()\n",
    "            \n",
    "    return ls / len(loader)"
   ]
  },
  {
   "cell_type": "code",
   "execution_count": 109,
   "metadata": {
    "collapsed": true
   },
   "outputs": [],
   "source": [
    "BATCH_SIZE = 64\n",
    "EMBEDDING_DIM = 256\n",
    "FIRST_LAYER = 2048"
   ]
  },
  {
   "cell_type": "code",
   "execution_count": 110,
   "metadata": {
    "collapsed": true
   },
   "outputs": [],
   "source": [
    "trainLoader = torch.utils.data.DataLoader(train_dataset, batch_size=BATCH_SIZE, shuffle=True, num_workers=1, drop_last=True)\n",
    "valLoader = torch.utils.data.DataLoader(val_dataset, batch_size=BATCH_SIZE, shuffle=False, num_workers=1, drop_last=True)\n",
    "testLoader = torch.utils.data.DataLoader(test_dataset, batch_size=1, shuffle=False, num_workers=1)"
   ]
  },
  {
   "cell_type": "code",
   "execution_count": 111,
   "metadata": {
    "collapsed": false
   },
   "outputs": [],
   "source": [
    "model = NCF(dataset.get_user_number(), dataset.get_movie_number(), dim=EMBEDDING_DIM, first_layer=FIRST_LAYER)\n",
    "#model = NGCF(dataset.get_user_number(), dataset.get_movie_number(), rt)"
   ]
  },
  {
   "cell_type": "code",
   "execution_count": 112,
   "metadata": {
    "collapsed": false,
    "scrolled": true
   },
   "outputs": [
    {
     "name": "stdout",
     "output_type": "stream",
     "text": [
      "Epoch 1 | Train Loss: 1.115 - Val Loss: 1.433 - in 1.133 mins.\n",
      "Epoch 2 | Train Loss: 0.974 - Val Loss: 1.462 - in 1.512 mins.\n",
      "Epoch 3 | Train Loss: 0.907 - Val Loss: 1.381 - in 1.189 mins.\n",
      "Epoch 4 | Train Loss: 0.857 - Val Loss: 1.109 - in 1.230 mins.\n",
      "Epoch 5 | Train Loss: 0.828 - Val Loss: 1.077 - in 1.221 mins.\n",
      "Epoch 6 | Train Loss: 0.803 - Val Loss: 1.041 - in 1.280 mins.\n",
      "Epoch 7 | Train Loss: 0.789 - Val Loss: 0.947 - in 1.188 mins.\n",
      "Epoch 8 | Train Loss: 0.767 - Val Loss: 0.920 - in 1.281 mins.\n",
      "Epoch 9 | Train Loss: 0.754 - Val Loss: 0.891 - in 1.308 mins.\n",
      "Epoch 10 | Train Loss: 0.739 - Val Loss: 0.812 - in 1.335 mins.\n",
      "Epoch 11 | Train Loss: 0.716 - Val Loss: 0.758 - in 1.192 mins.\n",
      "Epoch 12 | Train Loss: 0.696 - Val Loss: 0.770 - in 1.195 mins.\n",
      "Epoch 13 | Train Loss: 0.687 - Val Loss: 0.757 - in 1.227 mins.\n",
      "Epoch 14 | Train Loss: 0.674 - Val Loss: 0.755 - in 1.151 mins.\n",
      "Epoch 15 | Train Loss: 0.661 - Val Loss: 0.772 - in 1.197 mins.\n",
      "Epoch 16 | Train Loss: 0.654 - Val Loss: 0.765 - in 1.123 mins.\n",
      "Epoch 17 | Train Loss: 0.640 - Val Loss: 0.755 - in 1.157 mins.\n",
      "Epoch 18 | Train Loss: 0.628 - Val Loss: 0.758 - in 1.167 mins.\n",
      "Epoch 19 | Train Loss: 0.621 - Val Loss: 0.768 - in 1.132 mins.\n",
      "Epoch 20 | Train Loss: 0.609 - Val Loss: 0.753 - in 1.213 mins.\n",
      "Epoch 21 | Train Loss: 0.608 - Val Loss: 0.771 - in 1.210 mins.\n",
      "Epoch 22 | Train Loss: 0.600 - Val Loss: 0.755 - in 1.093 mins.\n",
      "Epoch 23 | Train Loss: 0.597 - Val Loss: 0.757 - in 1.097 mins.\n",
      "Epoch 24 | Train Loss: 0.589 - Val Loss: 0.759 - in 1.095 mins.\n",
      "Epoch 25 | Train Loss: 0.579 - Val Loss: 0.763 - in 1.264 mins.\n",
      "Epoch 26 | Train Loss: 0.577 - Val Loss: 0.760 - in 1.254 mins.\n",
      "Epoch 27 | Train Loss: 0.574 - Val Loss: 0.764 - in 1.105 mins.\n",
      "Epoch 28 | Train Loss: 0.569 - Val Loss: 0.769 - in 1.164 mins.\n",
      "Epoch 29 | Train Loss: 0.566 - Val Loss: 0.757 - in 1.143 mins.\n",
      "Epoch 30 | Train Loss: 0.559 - Val Loss: 0.768 - in 1.396 mins.\n",
      "Epoch 31 | Train Loss: 0.556 - Val Loss: 0.775 - in 1.361 mins.\n",
      "Epoch 32 | Train Loss: 0.549 - Val Loss: 0.761 - in 1.345 mins.\n",
      "Epoch 33 | Train Loss: 0.536 - Val Loss: 0.760 - in 1.419 mins.\n",
      "Epoch 34 | Train Loss: 0.537 - Val Loss: 0.761 - in 1.320 mins.\n",
      "Epoch 35 | Train Loss: 0.537 - Val Loss: 0.761 - in 1.395 mins.\n",
      "Epoch 36 | Train Loss: 0.532 - Val Loss: 0.764 - in 1.438 mins.\n",
      "Epoch 37 | Train Loss: 0.517 - Val Loss: 0.759 - in 1.303 mins.\n",
      "Epoch 38 | Train Loss: 0.511 - Val Loss: 0.776 - in 1.427 mins.\n",
      "Epoch 39 | Train Loss: 0.507 - Val Loss: 0.764 - in 1.347 mins.\n",
      "Epoch 40 | Train Loss: 0.499 - Val Loss: 0.761 - in 1.334 mins.\n",
      "Epoch 41 | Train Loss: 0.507 - Val Loss: 0.765 - in 1.408 mins.\n",
      "Epoch 42 | Train Loss: 0.502 - Val Loss: 0.766 - in 1.381 mins.\n",
      "Epoch 43 | Train Loss: 0.494 - Val Loss: 0.768 - in 1.226 mins.\n",
      "Epoch 44 | Train Loss: 0.500 - Val Loss: 0.777 - in 1.347 mins.\n",
      "Epoch 45 | Train Loss: 0.494 - Val Loss: 0.769 - in 1.201 mins.\n",
      "Epoch 46 | Train Loss: 0.489 - Val Loss: 0.775 - in 1.232 mins.\n",
      "Epoch 47 | Train Loss: 0.486 - Val Loss: 0.783 - in 1.218 mins.\n",
      "Epoch 48 | Train Loss: 0.480 - Val Loss: 0.789 - in 1.261 mins.\n",
      "Epoch 49 | Train Loss: 0.475 - Val Loss: 0.783 - in 1.277 mins.\n",
      "Epoch 50 | Train Loss: 0.474 - Val Loss: 0.766 - in 1.246 mins.\n"
     ]
    }
   ],
   "source": [
    "optim = Adam(model.parameters(), lr=1e-3)\n",
    "loss = nn.L1Loss()\n",
    "epoch = 50\n",
    "\n",
    "train_losses = []\n",
    "val_losses = []\n",
    "\n",
    "best_val = np.inf\n",
    "\n",
    "for i in range(epoch):\n",
    "    start = time.time()\n",
    "    TL = train(trainLoader, model, optim, loss)\n",
    "    VL = evaluate(valLoader, model, loss)\n",
    "    print(\"Epoch {} | Train Loss: {:.3f} - Val Loss: {:.3f} - in {:.3f} mins.\".format(i+1, TL, VL, (time.time()-start)/60))\n",
    "    \n",
    "    if VL < best_val:\n",
    "        torch.save(model.state_dict(), 'best_ncf_model.pth')\n",
    "        best_val = VL\n",
    "    \n",
    "    train_losses.append(TL)\n",
    "    val_losses.append(VL)"
   ]
  },
  {
   "cell_type": "markdown",
   "metadata": {},
   "source": [
    "### Training Results"
   ]
  },
  {
   "cell_type": "code",
   "execution_count": 116,
   "metadata": {
    "collapsed": false
   },
   "outputs": [
    {
     "data": {
      "image/png": "[encoded data removed]",
      "text/plain": [
       "<Figure size 432x288 with 1 Axes>"
      ]
     },
     "metadata": {
      "needs_background": "light"
     },
     "output_type": "display_data"
    }
   ],
   "source": [
    "plt.title('Neural Collaborative Filtering Model')\n",
    "plt.plot(train_losses, label='Training')\n",
    "plt.plot(val_losses, label='Validation')\n",
    "_ = plt.ylabel('L1 Loss')\n",
    "_ = plt.xlabel('Epoch')"
   ]
  },
  {
   "cell_type": "markdown",
   "metadata": {},
   "source": [
    "***\n",
    "\n",
    "## References\n",
    "\n",
    "[1] _He, Xiangnan, et al. \"Neural collaborative filtering.\" Proceedings of the 26th international conference on world wide web. International World Wide Web Conferences Steering Committee, 2017._\n",
    "\n",
    "[2] _Wang, Xiang, et al. \"Neural Graph Collaborative Filtering.\" arXiv preprint arXiv:1905.08108 (2019)._\n",
    "\n",
    "[3] _https://github.com/talkingwallace/NGCF-pytorch_"
   ]
  }
 ],
 "metadata": {
  "anaconda-cloud": {},
  "kernelspec": {
   "display_name": "Deep Learning",
   "language": "python",
   "name": "deepl"
  },
  "language_info": {
   "codemirror_mode": {
    "name": "ipython",
    "version": 3
   },
   "file_extension": ".py",
   "mimetype": "text/x-python",
   "name": "python",
   "nbconvert_exporter": "python",
   "pygments_lexer": "ipython3",
   "version": "3.6.8"
  }
 },
 "nbformat": 4,
 "nbformat_minor": 2
}
